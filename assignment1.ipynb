{
 "cells": [
  {
   "cell_type": "code",
   "execution_count": 2,
   "id": "f340445d-2c66-47f7-be8f-c101f25d5fdc",
   "metadata": {},
   "outputs": [],
   "source": [
    "Q1=\"Guido van Rossum\""
   ]
  },
  {
   "cell_type": "code",
   "execution_count": 5,
   "id": "d12f0d4d-6105-4cdb-a1ac-3b4b6fc04809",
   "metadata": {},
   "outputs": [],
   "source": [
    "Q2=\"object-oriented, structured, and functional programming.\""
   ]
  },
  {
   "cell_type": "code",
   "execution_count": 6,
   "id": "9bedb93d-8b91-49c3-b775-5df44e70516a",
   "metadata": {},
   "outputs": [],
   "source": [
    "Q3=\"yes  Python is a case-sensitive language\""
   ]
  },
  {
   "cell_type": "code",
   "execution_count": 7,
   "id": "2956c5ba-a9b1-4e59-89ee-68e4942daf83",
   "metadata": {},
   "outputs": [],
   "source": [
    "Q4=\".py\""
   ]
  },
  {
   "cell_type": "code",
   "execution_count": 8,
   "id": "d6dec4ed-274c-436b-bfcb-8bd24c26c27f",
   "metadata": {},
   "outputs": [],
   "source": [
    "Q5=\"Python is both compiled as well as an interpreted language\""
   ]
  },
  {
   "cell_type": "code",
   "execution_count": 9,
   "id": "28ff8298-f038-43ac-bd3d-5557568ccfbb",
   "metadata": {},
   "outputs": [],
   "source": [
    "Q6=\" a module, a function body, and a class definition.\""
   ]
  },
  {
   "cell_type": "code",
   "execution_count": 10,
   "id": "8ee194fe-63f5-42da-bf2f-fb137c77f39a",
   "metadata": {},
   "outputs": [],
   "source": [
    "Q7=\"Hash character(#)\""
   ]
  },
  {
   "cell_type": "code",
   "execution_count": null,
   "id": "4b307d72-c414-4418-8209-9a80509e003c",
   "metadata": {},
   "outputs": [],
   "source": [
    "Q8=\"python__version\""
   ]
  },
  {
   "cell_type": "code",
   "execution_count": 14,
   "id": "d4344c15-cd4a-483a-af81-832f7568d725",
   "metadata": {},
   "outputs": [],
   "source": [
    "Q9=\"lambda\""
   ]
  },
  {
   "cell_type": "code",
   "execution_count": 15,
   "id": "38c83682-d836-4ed0-8655-7e8ba82883f0",
   "metadata": {},
   "outputs": [],
   "source": [
    "Q10=\"Preferred Installer Program\""
   ]
  },
  {
   "cell_type": "code",
   "execution_count": 16,
   "id": "96ccb19c-3e4b-46fe-ac99-9f390674e3bd",
   "metadata": {},
   "outputs": [],
   "source": [
    "Q11=\"len(),list(),tuple(),bool()\""
   ]
  },
  {
   "cell_type": "code",
   "execution_count": 17,
   "id": "3c9fc99d-9f06-4965-98b4-39faa8158825",
   "metadata": {},
   "outputs": [],
   "source": [
    "Q12=\"In Python, the highest possible length of an identifier is 79 characters.\""
   ]
  },
  {
   "cell_type": "code",
   "execution_count": 18,
   "id": "b8b23978-60fe-4e97-96e5-bea6f4ab62fa",
   "metadata": {},
   "outputs": [],
   "source": [
    "Q13=\"developing websites and software, task automation, data analysis, and data visualization.\""
   ]
  },
  {
   "cell_type": "code",
   "execution_count": 19,
   "id": "34285cc7-1201-4782-9331-c8ae43c3b12d",
   "metadata": {},
   "outputs": [],
   "source": [
    "Q14=\"Memory in Python is managed by Python private heap space\""
   ]
  },
  {
   "cell_type": "code",
   "execution_count": 20,
   "id": "d5310be7-d1ae-4b73-934c-eb91e6947178",
   "metadata": {},
   "outputs": [
    {
     "data": {
      "text/plain": [
       "'Clicking on New and entering Python’s install directory.'"
      ]
     },
     "execution_count": 20,
     "metadata": {},
     "output_type": "execute_result"
    }
   ],
   "source": [
    "Q15=\"Right-clicking This PC and going to Properties.\"\n",
    "\"Clicking on the Advanced system settings in the menu on the left\"\n",
    "\"Clicking on the Environment Variables button on the bottom right\"\n",
    "\"In the System variables section, selecting the Path variable and clicking on Edit.\"\n",
    "\"The next screen will show all the directories that are currently a part of the PATH variable\"\n",
    "\"Clicking on New and entering Python’s install directory.\""
   ]
  },
  {
   "cell_type": "code",
   "execution_count": null,
   "id": "8fd28228-a150-4201-8d1b-2085f444ba19",
   "metadata": {},
   "outputs": [],
   "source": [
    "Q16=\"Indentation is mandatory in python to define the blocks of statements\""
   ]
  }
 ],
 "metadata": {
  "kernelspec": {
   "display_name": "Python 3 (ipykernel)",
   "language": "python",
   "name": "python3"
  },
  "language_info": {
   "codemirror_mode": {
    "name": "ipython",
    "version": 3
   },
   "file_extension": ".py",
   "mimetype": "text/x-python",
   "name": "python",
   "nbconvert_exporter": "python",
   "pygments_lexer": "ipython3",
   "version": "3.10.8"
  }
 },
 "nbformat": 4,
 "nbformat_minor": 5
}
