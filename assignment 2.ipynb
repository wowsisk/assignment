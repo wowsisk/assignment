{
 "cells": [
  {
   "cell_type": "code",
   "execution_count": 37,
   "id": "2fc2104d-a671-45cd-8480-211d2cf89a71",
   "metadata": {},
   "outputs": [
    {
     "name": "stdin",
     "output_type": "stream",
     "text": [
      "enter your marks 55\n"
     ]
    },
    {
     "name": "stdout",
     "output_type": "stream",
     "text": [
      "grade d\n"
     ]
    }
   ],
   "source": [
    "#Q1\n",
    "marks=int(input(\"enter your marks\"))\n",
    "if marks > 90 :\n",
    "    print (\"grade A\")\n",
    "elif marks > 80 and marks <= 90:\n",
    "    print(\"grade B\")\n",
    "elif marks >=60 and marks <=80:\n",
    "    print(\"grade c\")\n",
    "else :\n",
    "    print(\"grade d\")    "
   ]
  },
  {
   "cell_type": "code",
   "execution_count": 38,
   "id": "61bf343e-4d43-42d4-944c-844dce9ba0be",
   "metadata": {},
   "outputs": [
    {
     "name": "stdin",
     "output_type": "stream",
     "text": [
      "enter your bike cost price 4000\n"
     ]
    },
    {
     "name": "stdout",
     "output_type": "stream",
     "text": [
      "5% tax need to be paid\n"
     ]
    }
   ],
   "source": [
    "#Q2\n",
    "amount=int(input(\"enter your bike cost price\"))\n",
    "if amount > 100000:\n",
    "           print(\"15% tax need to be paid\")\n",
    "elif amount >50000 and amount<=100000:\n",
    "           print(\"10% tax need to be paid\")\n",
    "elif amount<=50000:\n",
    "           print(\"5% tax need to be paid\")"
   ]
  },
  {
   "cell_type": "code",
   "execution_count": 26,
   "id": "4b08731e-b9c6-4b82-8ca0-d24c18f046e9",
   "metadata": {},
   "outputs": [
    {
     "name": "stdin",
     "output_type": "stream",
     "text": [
      "enter name of the city jaipur\n"
     ]
    },
    {
     "name": "stdout",
     "output_type": "stream",
     "text": [
      "jal mahal\n"
     ]
    }
   ],
   "source": [
    "#Q3\n",
    "city=(input(\"enter name of the city\"))\n",
    "if  city==\"delhi\":\n",
    "    print(\"red fort\")\n",
    "elif city==\"agra\":\n",
    "    print(\"taj mahal\")\n",
    "elif city==\"jaipur\":\n",
    "    print(\"jal mahal\")"
   ]
  },
  {
   "cell_type": "code",
   "execution_count": 36,
   "id": "334dc793-a643-445e-bc42-bf9aca4efd19",
   "metadata": {},
   "outputs": [
    {
     "name": "stdin",
     "output_type": "stream",
     "text": [
      "enter number 9\n"
     ]
    },
    {
     "name": "stdout",
     "output_type": "stream",
     "text": [
      "3\n"
     ]
    }
   ],
   "source": [
    "#Q4\n",
    "number=int(input(\"enter number\"))\n",
    "if number/ 3 and  number ==3 and number <=10:\n",
    "    print(\"1\")\n",
    "if number/ 3 and  number ==6 and number <=10:\n",
    "    print(\"2\")\n",
    "if number/ 3 and  number ==9 and number <=10:\n",
    "    print(\"3\")"
   ]
  },
  {
   "cell_type": "code",
   "execution_count": 47,
   "id": "ce84dd33-3286-47a9-8f04-e0d135aad6f7",
   "metadata": {},
   "outputs": [
    {
     "name": "stdout",
     "output_type": "stream",
     "text": [
      "5\n",
      "10\n",
      "15\n",
      "20\n",
      "25\n",
      "30\n",
      "35\n",
      "40\n",
      "45\n",
      "50\n",
      "2500\n",
      "10000\n"
     ]
    }
   ],
   "source": [
    "#Q5 \n",
    "#ans(\"it repeats a statement or group of statement while a given condition is true. it test the condition before executing loop body\")\n",
    "q1 = []\n",
    "n = [1,2,3,4,5,6,7,8,9,10,500,2000]\n",
    "for i in n:\n",
    "    print(i*5)\n",
    "    q1.append(i*5)\n"
   ]
  },
  {
   "cell_type": "code",
   "execution_count": 54,
   "id": "9369385a-48cb-4467-8650-72ce8ea92189",
   "metadata": {},
   "outputs": [],
   "source": [
    "#7\n",
    "i=10\n",
    "while i>10:\n",
    "     print(i=i-1)\n",
    "    \n"
   ]
  },
  {
   "cell_type": "code",
   "execution_count": 55,
   "id": "74c6a957-d32c-4987-a992-71b7ff89e7eb",
   "metadata": {},
   "outputs": [
    {
     "data": {
      "text/plain": [
       "10"
      ]
     },
     "execution_count": 55,
     "metadata": {},
     "output_type": "execute_result"
    }
   ],
   "source": []
  },
  {
   "cell_type": "code",
   "execution_count": null,
   "id": "d16ee229-e122-4a5b-a794-0410725c5b56",
   "metadata": {},
   "outputs": [],
   "source": []
  }
 ],
 "metadata": {
  "kernelspec": {
   "display_name": "Python 3 (ipykernel)",
   "language": "python",
   "name": "python3"
  },
  "language_info": {
   "codemirror_mode": {
    "name": "ipython",
    "version": 3
   },
   "file_extension": ".py",
   "mimetype": "text/x-python",
   "name": "python",
   "nbconvert_exporter": "python",
   "pygments_lexer": "ipython3",
   "version": "3.10.8"
  }
 },
 "nbformat": 4,
 "nbformat_minor": 5
}
